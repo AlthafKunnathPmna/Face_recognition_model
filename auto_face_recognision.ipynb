{
 "cells": [
  {
   "cell_type": "code",
   "execution_count": 3,
   "metadata": {},
   "outputs": [],
   "source": [
    "import cv2\n",
    "import face_recognition as fr"
   ]
  },
  {
   "cell_type": "code",
   "execution_count": null,
   "metadata": {},
   "outputs": [],
   "source": [
    "\n",
    "known_face_encoding = []\n",
    "known_face_names = []"
   ]
  },
  {
   "cell_type": "code",
   "execution_count": null,
   "metadata": {},
   "outputs": [
    {
     "name": "stderr",
     "output_type": "stream",
     "text": [
      "<>:1: SyntaxWarning: invalid escape sequence '\\i'\n",
      "<>:2: SyntaxWarning: invalid escape sequence '\\W'\n",
      "<>:1: SyntaxWarning: invalid escape sequence '\\i'\n",
      "<>:2: SyntaxWarning: invalid escape sequence '\\W'\n",
      "C:\\Users\\altha\\AppData\\Local\\Temp\\ipykernel_59820\\3424015979.py:1: SyntaxWarning: invalid escape sequence '\\i'\n",
      "  known_person_1_image = fr.load_image_file('images\\images.jpeg')\n",
      "C:\\Users\\altha\\AppData\\Local\\Temp\\ipykernel_59820\\3424015979.py:2: SyntaxWarning: invalid escape sequence '\\W'\n",
      "  known_person_2_image = fr.load_image_file('images\\WhatsApp Image 2024-11-02 at 09.32.36_036cb8ca.jpg')\n"
     ]
    }
   ],
   "source": [
    "# load known files from device\n",
    "known_person_1_image = fr.load_image_file('images\\images.jpeg')\n",
    "known_person_2_image = fr.load_image_file('images\\WhatsApp Image 2024-11-02 at 09.32.36_036cb8ca.jpg')"
   ]
  },
  {
   "cell_type": "code",
   "execution_count": null,
   "metadata": {},
   "outputs": [],
   "source": [
    "# encode the faces\n",
    "person_1_encoding = fr.face_encodings(known_person_1_image)[0]\n",
    "person_2_encoding = fr.face_encodings(known_person_2_image)[0]"
   ]
  },
  {
   "cell_type": "code",
   "execution_count": null,
   "metadata": {},
   "outputs": [],
   "source": [
    "# append the encodings\n",
    "known_face_encoding.append(person_1_encoding)\n",
    "known_face_encoding.append(person_2_encoding)"
   ]
  },
  {
   "cell_type": "code",
   "execution_count": null,
   "metadata": {},
   "outputs": [],
   "source": [
    "# append the names\n",
    "known_face_names.append('messi')\n",
    "known_face_names.append('Althaf')"
   ]
  },
  {
   "cell_type": "code",
   "execution_count": null,
   "metadata": {},
   "outputs": [],
   "source": [
    "video_capture = cv2.VideoCapture(0)\n",
    "\n",
    "while True:\n",
    "    ret,frame = video_capture.read()\n",
    "    \n",
    "    face_locations = fr.face_locations(frame)\n",
    "    face_encodings = fr.face_encodings(frame,face_locations)\n",
    "    \n",
    "    for (top,right,bottom,left),face_encoding in zip(face_locations,face_encodings):\n",
    "        matches = fr.compare_faces(known_face_encoding,face_encoding)\n",
    "        name = 'Unknown'\n",
    "        \n",
    "        if True in matches:\n",
    "            first_match_index = matches.index(True)\n",
    "            name = known_face_names[first_match_index]\n",
    "            \n",
    "        cv2.rectangle(frame,(left,top),(right,bottom),(0,0,255),2)\n",
    "        cv2.putText(frame,name,(left,top - 10),cv2.FONT_HERSHEY_SIMPLEX,0.9,(0,0,255),2)\n",
    "    \n",
    "    cv2.imshow(\"video\",frame)\n",
    "    \n",
    "    if cv2.waitKey(1) & 0xFF == ord('q' or 'Q'):\n",
    "        break\n",
    "video_capture.release()\n",
    "cv2.destroyAllWindows()\n"
   ]
  }
 ],
 "metadata": {
  "kernelspec": {
   "display_name": "base",
   "language": "python",
   "name": "python3"
  },
  "language_info": {
   "codemirror_mode": {
    "name": "ipython",
    "version": 3
   },
   "file_extension": ".py",
   "mimetype": "text/x-python",
   "name": "python",
   "nbconvert_exporter": "python",
   "pygments_lexer": "ipython3",
   "version": "3.12.4"
  }
 },
 "nbformat": 4,
 "nbformat_minor": 2
}
